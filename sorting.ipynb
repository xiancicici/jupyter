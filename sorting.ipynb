{
 "cells": [
  {
   "cell_type": "code",
   "execution_count": 12,
   "metadata": {},
   "outputs": [],
   "source": [
    "import random\n",
    "\n",
    "def generate(n):\n",
    "    rand_list=[]\n",
    "    for i in range(n):\n",
    "        rand_list.append(random.randint(1,100))\n",
    "    \n",
    "    return rand_list"
   ]
  },
  {
   "cell_type": "markdown",
   "metadata": {},
   "source": [
    "## 插入排序 Insertion Sort - O(N^2)"
   ]
  },
  {
   "cell_type": "markdown",
   "metadata": {},
   "source": [
    "- 从第二个元素（第一个要被排序的新元素）开始，从后向前扫描之前的元素序列\n",
    "- 如果当前扫描的元素大于新元素，将扫描元素移动到下一位\n",
    "- 重复步骤2，直到找到一个小于或者等于新元素的位置\n",
    "- 将新元素插入到该位置\n",
    "- 对于之后的元素重复步骤1~4"
   ]
  },
  {
   "cell_type": "code",
   "execution_count": 14,
   "metadata": {},
   "outputs": [],
   "source": [
    "nums = generate(100)\n",
    "\n",
    "n = 100\n",
    "for i in range(1, n):  # 从第二个元素开始\n",
    "    num = nums[i]\n",
    "    j = i - 1  # 把当前元素num和前一个元素相比较 \n",
    "    while (j >= 0) and (nums[j] > num):  # 循环直到 1)j到达第一个元素 2)当前元素num不再小于前一个元素\n",
    "        nums[j+1] = nums[j]  # 循环把当前元素位置j赋值给后一个元素\n",
    "        j -= 1\n",
    "    nums[j+1] = num  # 循环结束后，num不再小于j位置的元素（或者j=-1）,所以把num赋值给j+1位置"
   ]
  },
  {
   "cell_type": "code",
   "execution_count": 16,
   "metadata": {},
   "outputs": [
    {
     "name": "stdout",
     "output_type": "stream",
     "text": [
      "[1, 3, 4, 4, 5, 6, 10, 11, 12, 12, 14, 14, 14, 14, 17, 18, 21, 21, 22, 23, 23, 23, 23, 23, 24, 24, 24, 27, 30, 31, 32, 32, 36, 38, 38, 39, 40, 41, 41, 41, 43, 43, 45, 46, 51, 53, 53, 54, 55, 56, 57, 58, 59, 61, 62, 62, 63, 64, 65, 66, 68, 69, 69, 70, 71, 72, 72, 73, 74, 74, 76, 78, 78, 80, 80, 81, 82, 83, 84, 84, 85, 85, 86, 87, 87, 89, 89, 89, 90, 92, 93, 93, 93, 93, 95, 96, 96, 96, 97, 98]\n"
     ]
    }
   ],
   "source": [
    "print(nums)"
   ]
  },
  {
   "cell_type": "markdown",
   "metadata": {},
   "source": [
    "## 快排 QuickSort - 最坏时间复杂度：O(n^2)，平均时间复杂度：O(nlogN）"
   ]
  },
  {
   "cell_type": "markdown",
   "metadata": {},
   "source": [
    "- 对于当前的数组，取最后一个元素当做基准数（pivot）\n",
    "- 将所有比基准数小的元素排到基准数之前，比基准数大的排在基准数之后\n",
    "- 当基准数被放到准确的位置之后，根据基数数的位置将元素切分为前后两个子数组\n",
    "- 对子数组采用步骤1~4的递归操作，直到子数组的长度小于等于1为止"
   ]
  },
  {
   "cell_type": "code",
   "execution_count": 105,
   "metadata": {},
   "outputs": [],
   "source": [
    "nums = generate(100)\n",
    "\n",
    "n = 100\n",
    "            \n",
    "def quick_sort(nums, start, end):\n",
    "    if start < end:\n",
    "        partition_index = partition(nums, start, end)  # 放pivot的位置\n",
    "        quick_sort(nums, start, partition_index - 1)  # 只需要继续对pivot之前和之后这2个子数组分别排序\n",
    "        quick_sort(nums, partition_index + 1, end)\n",
    "    \n",
    "    \n",
    "def partition(nums, start, end):\n",
    "    pivot = nums[end]  # 选择一个pivot - 可以用 median 3 方法取\n",
    "    i = start  # i是pivot最终的位置，也就是说i左侧的元素都小于pivot\n",
    "\n",
    "    for j in range(start, end):\n",
    "        if nums[j] <= pivot:\n",
    "            nums[i], nums[j] = nums[j], nums[i]  # 把小于Pivot的元素放到Pivot左侧\n",
    "            i += 1\n",
    " \n",
    "    nums[i], nums[end] = nums[end], nums[i]  # 最后把pivot放到i位置\n",
    " \n",
    "    return i  # 返回pivot的位置\n"
   ]
  },
  {
   "cell_type": "code",
   "execution_count": 106,
   "metadata": {},
   "outputs": [
    {
     "name": "stdout",
     "output_type": "stream",
     "text": [
      "[74, 76, 81, 33, 61, 56, 84, 65, 100, 11, 3, 78, 40, 41, 5, 99, 82, 90, 49, 89, 66, 18, 41, 83, 7, 23, 87, 69, 36, 62, 76, 52, 33, 32, 96, 54, 47, 11, 45, 38, 31, 87, 94, 70, 32, 6, 82, 35, 19, 64, 74, 80, 66, 53, 85, 79, 62, 70, 57, 5, 12, 76, 71, 23, 86, 55, 59, 66, 12, 86, 21, 41, 98, 40, 95, 86, 56, 67, 85, 96, 68, 68, 73, 70, 22, 56, 12, 81, 58, 68, 90, 82, 8, 36, 5, 48, 18, 51, 7, 43]\n"
     ]
    }
   ],
   "source": [
    "print(nums)"
   ]
  },
  {
   "cell_type": "code",
   "execution_count": 107,
   "metadata": {},
   "outputs": [],
   "source": [
    "quick_sort(nums, 0, n-1)"
   ]
  },
  {
   "cell_type": "code",
   "execution_count": 108,
   "metadata": {},
   "outputs": [
    {
     "name": "stdout",
     "output_type": "stream",
     "text": [
      "[3, 5, 5, 5, 6, 7, 7, 8, 11, 11, 12, 12, 12, 18, 18, 19, 21, 22, 23, 23, 31, 32, 32, 33, 33, 35, 36, 36, 38, 40, 40, 41, 41, 41, 43, 45, 47, 48, 49, 51, 52, 53, 54, 55, 56, 56, 56, 57, 58, 59, 61, 62, 62, 64, 65, 66, 66, 66, 67, 68, 68, 68, 69, 70, 70, 70, 71, 73, 74, 74, 76, 76, 76, 78, 79, 80, 81, 81, 82, 82, 82, 83, 84, 85, 85, 86, 86, 86, 87, 87, 89, 90, 90, 94, 95, 96, 96, 98, 99, 100]\n"
     ]
    }
   ],
   "source": [
    "print(nums)"
   ]
  },
  {
   "cell_type": "code",
   "execution_count": null,
   "metadata": {},
   "outputs": [],
   "source": [
    "# medium of 3 method to pick pivot: compare the first/mid/end elements and choose the medium one\n",
    "\n",
    "def get_max_index(nums, a, b):\n",
    "    if nums[a] > nums[b]:\n",
    "        return a \n",
    "    else:\n",
    "        return b\n",
    "\n",
    "def generate_pivot(nums, start, end):\n",
    "    mid = (start + end) // 2\n",
    "    return get_max_index(nums, get_max_index(nums, start, mid), end)\n",
    "\n",
    "def quicksort(nums, start, end):\n",
    "    if start < end:\n",
    "        partition_index = partition(nums, start, end)\n",
    "        quicksort(nums, start, partition_index - 1)\n",
    "        quicksort(nums, partition_index + 1, end)\n",
    "\n",
    "def partition(nums, start, end):\n",
    "    pivot_index = generate_pivot(nums, start, end) # medium of 3\n",
    "    pivot = nums[pivot_index]\n",
    "    nums[pivot_index], nums[end] = nums[end], nums[pivot_index]\n",
    "\n",
    "    i = start\n",
    "    for j in range(start, end):\n",
    "        if nums[j] < pivot:\n",
    "            nums[i], nums[j] = nums[j], nums[i]\n",
    "            i += 1\n",
    "    nums[i], nums[end] = nums[end], nums[i]\n",
    "\n",
    "    return i"
   ]
  },
  {
   "cell_type": "markdown",
   "metadata": {},
   "source": [
    "## 归并排序 MergeSort - O(nlogN)"
   ]
  },
  {
   "cell_type": "markdown",
   "metadata": {},
   "source": [
    "- 递归切分当前数组\n",
    "- 如果当前数组数量小于等于1，无需排序，直接返回结果\n",
    "- 否则将当前数组分为两个子数组，递归排序这两个子数组\n",
    "- 在子数组排序结束后，将子数组的结果归并成排好序的数组"
   ]
  },
  {
   "cell_type": "code",
   "execution_count": 204,
   "metadata": {},
   "outputs": [],
   "source": [
    "nums = generate(100)\n",
    "\n",
    "n = 100\n",
    "\n",
    "def merge_sort(nums, start, end):\n",
    "    if start == end:  # If the current subarray has one element, no need to sort\n",
    "        return\n",
    "    \n",
    "    mid = (start + end) // 2  # Find the middle point to split the array into two halves\n",
    "    \n",
    "    merge_sort(nums, start, mid)  # Recursively sort the first half\n",
    "    merge_sort(nums, mid + 1, end)  # Recursively sort the second half\n",
    "    \n",
    "    merge(nums, start, mid, end)  # Merge the two sorted halves\n",
    "    \n",
    "\n",
    "# 方法1: for loop\n",
    "def merge(nums, start, mid, end):\n",
    "    \n",
    "    temp = nums[:]  # Create a copy of the array to use for merging - O(n) space complexity\n",
    "    \n",
    "    left = start  # Starting index for the left subarray\n",
    "    right = mid + 1  # Starting index for the right subarray\n",
    "    \n",
    "\n",
    "    for i in range(start, end + 1):  # Merge the arrays back into nums[start:end+1]\n",
    "        if left > mid:  # If the left subarray is exhausted, take from the right subarray\n",
    "            nums[i] = temp[right]\n",
    "            right += 1\n",
    "        elif right > end:  # If the right subarray is exhausted, take from the left subarray\n",
    "            nums[i] = temp[left]\n",
    "            left += 1\n",
    "        elif temp[left] < temp[right]:  # Take from the left subarray if it's smaller\n",
    "            nums[i] = temp[left]\n",
    "            left += 1\n",
    "        else:  # Take from the right subarray if it's smaller\n",
    "            nums[i] = temp[right]\n",
    "            right += 1\n",
    "            \n",
    "            \n",
    "# 方法2: while loop\n",
    "def merge(nums, start, mid, end):\n",
    "    \n",
    "    temp = []\n",
    "    \n",
    "    left = start\n",
    "    right = mid + 1\n",
    "\n",
    "    while left <= mid or right <= end:\n",
    "        if left > mid or (right <= end and nums[right] < nums[left]):\n",
    "            temp.append(nums[right])\n",
    "            right += 1\n",
    "        else:\n",
    "            temp.append(nums[left])\n",
    "            left += 1\n",
    "            \n",
    "    nums[start: end+1] = temp\n",
    "\n",
    "        \n",
    "    "
   ]
  },
  {
   "cell_type": "code",
   "execution_count": 205,
   "metadata": {},
   "outputs": [],
   "source": [
    "merge_sort(nums, 0, n-1)"
   ]
  },
  {
   "cell_type": "code",
   "execution_count": 206,
   "metadata": {},
   "outputs": [
    {
     "name": "stdout",
     "output_type": "stream",
     "text": [
      "[1, 1, 2, 4, 4, 6, 6, 7, 8, 9, 10, 10, 11, 12, 12, 13, 13, 14, 15, 15, 16, 19, 19, 20, 22, 22, 23, 24, 25, 25, 25, 26, 26, 28, 29, 29, 30, 30, 30, 31, 34, 36, 37, 38, 38, 39, 39, 39, 41, 42, 45, 46, 46, 48, 48, 49, 51, 52, 54, 54, 59, 60, 61, 63, 63, 63, 64, 64, 65, 65, 67, 67, 68, 69, 69, 70, 71, 73, 74, 76, 76, 76, 77, 78, 78, 80, 82, 85, 88, 89, 89, 92, 93, 94, 97, 97, 97, 98, 98, 98]\n"
     ]
    }
   ],
   "source": [
    "print(nums)"
   ]
  },
  {
   "cell_type": "code",
   "execution_count": null,
   "metadata": {},
   "outputs": [],
   "source": []
  }
 ],
 "metadata": {
  "kernelspec": {
   "display_name": "Python 3",
   "language": "python",
   "name": "python3"
  },
  "language_info": {
   "codemirror_mode": {
    "name": "ipython",
    "version": 3
   },
   "file_extension": ".py",
   "mimetype": "text/x-python",
   "name": "python",
   "nbconvert_exporter": "python",
   "pygments_lexer": "ipython3",
   "version": "3.7.6"
  }
 },
 "nbformat": 4,
 "nbformat_minor": 4
}
